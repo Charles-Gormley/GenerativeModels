{
 "cells": [
  {
   "cell_type": "markdown",
   "id": "1b75af44",
   "metadata": {},
   "source": [
    "# Build your `Deep Convolutional Generative Adversarial Network (DCGAN)` for Deep Learning on Handwritten Digits `Image generation` Task"
   ]
  },
  {
   "cell_type": "markdown",
   "id": "37d37633",
   "metadata": {},
   "source": [
    "  "
   ]
  },
  {
   "cell_type": "markdown",
   "id": "052d1878",
   "metadata": {},
   "source": [
    "\n",
    "## Annotations in cell of this Notebook: \n",
    " \n",
    "<font color='red'>Read carefully the Annotations below to understand what to write in the Notebook and what to answer in the Course Shell.</font>\n",
    " \n",
    " `##` is the python comments for assignment requirements and/or descriptions to the code below.\n",
    "\n",
    "`???` is the marker of the place that you should REPLACE with your own python code (either name of function[s], name of variable[s], expression[s], or a whole code line etc.), which should be able to be executed without errors. <strong>You may also find some inspirations from previous HomeWork assignment to write desired code for similar purpose/functionality </strong>\n",
    "\n",
    "`##-Qx: ` is the numbered identifier to indicate the question you should answer in the Course Shell for this homework. For example    `##-Q1: ` and `##-Q6: ` .   \n",
    "\n",
    "[`clickable link`]() is some tip/hint resources you many refer to in addition to your learning resources from this course or your self explorations.  \n",
    "    \n",
    " "
   ]
  },
  {
   "cell_type": "markdown",
   "id": "8ea8e83c",
   "metadata": {},
   "source": [
    "  "
   ]
  },
  {
   "cell_type": "markdown",
   "id": "e8b09eec",
   "metadata": {},
   "source": [
    "  "
   ]
  },
  {
   "cell_type": "markdown",
   "id": "be604776",
   "metadata": {},
   "source": [
    "## Task Overview \n",
    "<img src=\"https://miro.medium.com/max/1400/1*N3nT9AXVnsFBta2R1eEMjg.png\" width=\"500\">\n",
    "　　　　　　　　　　　　　　　　　　　　　　　　　　　　　<strong>A Task Schema Diagram</strong>\n",
    "                                              \n",
    "Generative Adversarial Networks (GANs) is a framework to train generative models, such as deep convolutional neural networks for generating images. GAN composed of two models which are trained simultaneously by an adversarial process. A generator model (\"the artist\") learns to create fake images that look real, while a discriminator model (\"the art critic\") learns to tell real images apart from fakes. \n",
    "\n",
    "During training, the generator progressively becomes better at creating images that look real, while the discriminator becomes better at telling them apart. The process reaches equilibrium when the discriminator can hardly distinguish real images from fakes.\n",
    "\n",
    "For a simple GAN the generator is build as a simple fully connected network. The generator of a Deep Convolutional Generative Adversarial Network (DCGAN) are mainly composes of convolution layers without max pooling with convolutional stride and transposed convolution (Fractionally-strided convolution or Deconvolution) for the downsampling and the upsampling of 2D images.  \n",
    " \n",
    "\n",
    "You will conduct a `Image generation` task, by `building` a DCGAN architecture with Python to generate `fake images` from random `noise input`, that after proper `training` of the model it would look like images of `real handwritten digits`. \n",
    "\n",
    "The `TensorFlow 2.x` platform and its integrated version of `Keras API` (versus the traditional Keras Package) should be the handy tools for you to complete this task. Please take advantage of the official well supported TensorFlow & Keras [`Help Documentations`](https://www.tensorflow.org/api_docs/python/tf/keras) for correct usages of the API and functions. \n"
   ]
  },
  {
   "cell_type": "markdown",
   "id": "c1273219",
   "metadata": {},
   "source": [
    "  "
   ]
  },
  {
   "cell_type": "code",
   "execution_count": 82,
   "id": "62f271a3",
   "metadata": {},
   "outputs": [],
   "source": [
    "## Import related Modules for TensorFlow framework and Keras API\n",
    "   \n",
    "\n",
    "## import the TensorFlow and give it alias \"tf\" \n",
    "import tensorflow as tf\n",
    "\n",
    "\n",
    "## import the `Keras` API from TensorFlow \n",
    "from tensorflow import keras\n",
    "\n",
    "##-Q1: copy your composed code in the line above to answer corresponding question in the Course Shell\n",
    "\n",
    "\n",
    "## import the namespace \"layers\" and \"optimizer\" of Keras from Tensorflow \n",
    "##   - use comma and exactly one space to seperate each namespace\n",
    "# from tensorflow.keras import layers, optimizer\n",
    "from keras import layers, optimizers\n",
    "##-Q2: copy your composed code in the line above to answer corresponding question in the Course Shell\n",
    "\n",
    "\n",
    "## import the Numpy package and give it alias \"np\" \n",
    "import numpy as np\n",
    "\n",
    "import matplotlib.pyplot as plt "
   ]
  },
  {
   "cell_type": "code",
   "execution_count": 83,
   "id": "a5b384bf",
   "metadata": {},
   "outputs": [
    {
     "name": "stdout",
     "output_type": "stream",
     "text": [
      "DCGAN Project starts at 2023-06-02 15:55:07.517810\n"
     ]
    }
   ],
   "source": [
    "## Record the starting time of runing DCGAN project\n",
    "## Create a image folder to store generated fake images for every interval during training\n",
    "import os\n",
    "from datetime import datetime\n",
    "datetime_now = datetime.now()\n",
    "print(f\"DCGAN Project starts at {datetime_now}\")\n",
    "datetime_now = datetime_now.strftime(\"%Y%d%m_%H%M%S\")\n",
    "if os.path.exists('dcgan_fake_images'):       \n",
    "    os.rename(\"dcgan_fake_images\", f\"dcgan_fake_images_{datetime_now}\")    \n",
    "    os.makedirs('dcgan_fake_images')\n",
    "else:        \n",
    "    os.makedirs('dcgan_fake_images')"
   ]
  },
  {
   "cell_type": "markdown",
   "id": "c187cba1",
   "metadata": {},
   "source": [
    "  "
   ]
  },
  {
   "cell_type": "markdown",
   "id": "56257cdb",
   "metadata": {},
   "source": [
    "  "
   ]
  },
  {
   "cell_type": "markdown",
   "id": "48f9a181",
   "metadata": {},
   "source": [
    "## Prepare Dataset \n",
    "\n",
    "### The Image Dataset of MNIST Handwritten Digits - Introduction "
   ]
  },
  {
   "cell_type": "markdown",
   "id": "d279f533",
   "metadata": {},
   "source": [
    "The [`MNIST`](http://yann.lecun.com/exdb/mnist/) database (Modified National Institute of Standards and Technology database) is a large database of handwritten digits that is widely used for training and testing Deep Learning Models.\n",
    "\n",
    "The images in the dataset contains small square images with pixels in grayscale, and each image present a real handwritten single digits between 0 and 9.  \n",
    "\n",
    "The image genration task is to generate fake images out of noise inputs and have the fake images looks like a handwritten digit."
   ]
  },
  {
   "cell_type": "markdown",
   "id": "cf5eb975",
   "metadata": {},
   "source": [
    "### Load Data\n",
    "\n",
    "Load the MNIST dataset distributed with Keras.\n",
    "  "
   ]
  },
  {
   "cell_type": "code",
   "execution_count": 84,
   "id": "67ea7b86",
   "metadata": {},
   "outputs": [],
   "source": [
    "## Load the MNIST data from the Keras in Tensorflow framework\n",
    "mnist_data = keras.datasets.mnist\n",
    "  \n",
    "## We will only use the images to train the DCGAN, so use '_' to replace other variable locations\n",
    "##   Since we are not trying to train model to classify into correct labels \n",
    "##   We only need to identify if a image is real or fake as 1 or 0\n",
    "## replace ONLY the '???' in the code line below:\n",
    "(images_train, _),(_, _) = mnist_data.load_data()"
   ]
  },
  {
   "cell_type": "markdown",
   "id": "aa082396",
   "metadata": {},
   "source": [
    "###  Explore Data"
   ]
  },
  {
   "cell_type": "code",
   "execution_count": 85,
   "id": "f2a92195",
   "metadata": {},
   "outputs": [
    {
     "name": "stdout",
     "output_type": "stream",
     "text": [
      "Data Types:   uint8\n",
      "Shape / Dimensions of Data : (60000, 28, 28)\n",
      "Min: 0 \n",
      " Max:  255\n"
     ]
    }
   ],
   "source": [
    "## Find out the datatype, dimensions, and min/max value (i.e. value range) of the loaded data `images_train` \n",
    "## Feel free to explore all aspects that could help you understand the data\n",
    "\n",
    "\n",
    "print(\"Data Types:  \", images_train.dtype)\n",
    "print(\"Shape / Dimensions of Data :\", images_train.shape)\n",
    "print(\"Min:\", np.min(images_train), \"\\n Max: \", np.max(images_train))"
   ]
  },
  {
   "cell_type": "code",
   "execution_count": 86,
   "id": "ca6ede8c",
   "metadata": {},
   "outputs": [],
   "source": [
    "## Define a function for visualizing some images\n",
    "def images_show(images, dim=(1,6), figsize=(12,6), num_postfix=-1):\n",
    "    plt.figure(figsize=figsize)\n",
    "    for i in range(images.shape[0]):\n",
    "        plt.subplot(dim[0], dim[1], i+1)\n",
    "        plt.imshow(images[i], cmap='Greys_r', interpolation='nearest')\n",
    "        plt.axis('off') \n",
    "    plt.savefig(f'dcgan_fake_images/fake_images_iter_{num_postfix:05d}.png') \n",
    "    plt.pause(0.1)"
   ]
  },
  {
   "cell_type": "code",
   "execution_count": 87,
   "id": "f7108925",
   "metadata": {
    "scrolled": true
   },
   "outputs": [
    {
     "data": {
      "image/png": "[encoded data removed]",
      "text/plain": [
       "<Figure size 1200x600 with 5 Axes>"
      ]
     },
     "metadata": {},
     "output_type": "display_data"
    }
   ],
   "source": [
    "## Call the function images_show to show first 6 images in the loaded data, i.e. images_train\n",
    "\n",
    "loaded_image_samples = images_show(images_train[:5])\n",
    "loaded_image_samples  \n",
    "\n",
    "##-Q3: What are the code you should put in place of the ??? in the above code line to fulfill its purpose of design (requirements in the code comment)? \n"
   ]
  },
  {
   "cell_type": "markdown",
   "id": "d1bdb9cf",
   "metadata": {},
   "source": [
    "### Preprocess data"
   ]
  },
  {
   "cell_type": "code",
   "execution_count": 88,
   "id": "d0d6cd8b",
   "metadata": {},
   "outputs": [],
   "source": [
    "## To faciliate the model training, we would preprocess to normalize and reshape the images\n",
    "\n",
    "def images_preprocess(images):\n",
    "    ## Normalize the input images to the range of [-1, 1] \n",
    "    images = images / 127.5 - 1\n",
    "    \n",
    "    ## Convert dimension of all grayscale images to be enforce to have a color channel in its dimensions\n",
    "    ##   i.e. convert origianl 3D tensor (number_of_data, image_height, image_width) of `images_train`\n",
    "    ##        to 4D tensor by adding the addiontal dimension as the color channel\n",
    "    ##   - fill in only the number values to replace the ??? below:\n",
    "\n",
    "    # I'm assuming color channel here means grayscale so 1, but if not then make the 1 a 3. \n",
    "    images = images.reshape(images.shape[0], images.shape[1], images.shape[2], 1).astype('float32')   \n",
    "\n",
    "    ##-Q4: What are the number values you should put in place of the ??? in the above code line to fulfill its purpose of design (requirements in the comment)? \n",
    "    \n",
    "    return images\n",
    "\n",
    "## Use the function images_preprocess to preprocess the loaded data `images_train`  \n",
    "images_preprocessed = images_preprocess(images_train) \n",
    "##-Q5: What are the code you should put in place of the ??? in the above code line to fulfill its purpose of design (requirements in the comment)? \n",
    "    "
   ]
  },
  {
   "cell_type": "markdown",
   "id": "00babcfe",
   "metadata": {},
   "source": [
    "### Prepare dataset"
   ]
  },
  {
   "cell_type": "code",
   "execution_count": 89,
   "id": "e5c339c5",
   "metadata": {},
   "outputs": [],
   "source": [
    "## Prepare dataset from the preprocessed image data by shuffle and batch \n",
    "\n",
    "## set parameter BUFFER_SIZE as the total number of images in the loaded data `images_train`\n",
    "\n",
    "BUFFER_SIZE = images_train.shape[0] # TODO: Check if this is right.\n",
    "    \n",
    "## set parameter BATCH_SIZE as 64\n",
    "BATCH_SIZE = 64\n",
    "\n",
    "## create dataset for real images \n",
    "images_data = tf.data.Dataset.from_tensor_slices(images_preprocessed)\n",
    "def get_dataset_real(dataset, buffer=BUFFER_SIZE, batch=BATCH_SIZE, drop_remainder = True):\n",
    "    ## Shuffle and Batch to prepare the dataset for real images\n",
    "    dataset = dataset.shuffle(buffer).batch(batch, drop_remainder = drop_remainder).prefetch(1)\n",
    "    return dataset"
   ]
  },
  {
   "cell_type": "code",
   "execution_count": 90,
   "id": "461a9beb",
   "metadata": {},
   "outputs": [],
   "source": [
    "## create noises for generating fake images during the training stage\n",
    " \n",
    "## use a 1D random vector as the noise input \n",
    "##   for the generator model to create one fake image later \n",
    "## Set the dimension of the vector (i.e. NOISE_SIZE) as 100 \n",
    "##   i.e. the number of input \n",
    "NOISE_SIZE = 100\n",
    "\n",
    "## create a batch of random vectors that each is in the range of [-1, 1] (as noises)  \n",
    "##   i.e. random vectors for one batch\n",
    "def get_noise_one_batch(batch_size=BATCH_SIZE, noise_size=NOISE_SIZE):\n",
    "    noice_one_batch = np.random.uniform(-1, 1, (batch_size, noise_size))\n",
    "    return noice_one_batch\n"
   ]
  },
  {
   "cell_type": "markdown",
   "id": "21dd7612",
   "metadata": {},
   "source": [
    "  "
   ]
  },
  {
   "cell_type": "markdown",
   "id": "a9021ee3",
   "metadata": {},
   "source": [
    "  "
   ]
  },
  {
   "cell_type": "markdown",
   "id": "dbdad99a",
   "metadata": {},
   "source": [
    "  "
   ]
  },
  {
   "cell_type": "markdown",
   "id": "0ecc9de6",
   "metadata": {},
   "source": [
    "## Build architecture of your DCGAN model\n",
    "\n",
    "DCGAN is based on GAN, which composed of two models in neural networks:\n",
    "\n",
    "- The first model is called a **Generator** and it aims to generate new data similar to the real one. In DCGAN it would generate an unexisted image that we call fake image for this project. \n",
    "\n",
    "- The second model is named the **Discriminator** and it aims to recognize if a data is ‘real’ — belongs to the original dataset; Or if it is ‘fake’ — generated by a forger. Whose output is a binary 1 or 0.\n",
    "\n",
    "\n",
    "\n",
    "The basic building block of neural network is the layer. \n",
    "You will configure each layer of your model, then compiling the model.\n",
    "\n",
    "\n",
    "\n",
    "<br>\n",
    "\n",
    "For this task you are required to chain together layers as the architecture of the DCGAN. \n",
    "\n",
    "**Besides the layers you've already practiced and familiared with** in the **previous assignments** (E.g. **Dense, Convolutional, Flatten** layers etc.), \n",
    "\n",
    "the following  [**new types of layers**](https://www.tensorflow.org/api_docs/python/tf/keras/layers) might also needed in this task. Their API references listed below (as how to apply their corresponding **parameters** to configure the layer) might provide you more inspirations.\n",
    "\n",
    "- [Reshape](https://www.tensorflow.org/api_docs/python/tf/keras/layers/Reshape)\n",
    "\n",
    "- [Conv2DTranspose](https://www.tensorflow.org/api_docs/python/tf/keras/layers/Conv2DTranspose)\n",
    "\n",
    "- [LeakyReLU](https://www.tensorflow.org/api_docs/python/tf/keras/layers/LeakyReLU)\n",
    "\n",
    "\n",
    " \n",
    "\n",
    " \n",
    "\n",
    "\n"
   ]
  },
  {
   "cell_type": "markdown",
   "id": "2824a726",
   "metadata": {},
   "source": [
    "  "
   ]
  },
  {
   "cell_type": "markdown",
   "id": "111c354a",
   "metadata": {},
   "source": [
    "### Build the Generator Model\n",
    "\n",
    "\n",
    "This Generator Model will receive noise vectors as inputs, and generated fake images as output;\n",
    "\n",
    "A vector in the inputs would be converted and upsampled several times until reaching the same size of a real image.  "
   ]
  },
  {
   "cell_type": "code",
   "execution_count": 91,
   "id": "00a7effd",
   "metadata": {},
   "outputs": [],
   "source": [
    "## Build a Generator model by stacking keras layers sequentially  \n",
    " \n",
    "generator = keras.Sequential([        \n",
    "##-Q6: What is the function name that you should put in place of the ??? in the above code line to fulfill its purpose of design (requirements in the comment)? \n",
    "\n",
    "    ## *** READ *VERY CAREFULLY* Below What is DESCRIBED and REQUIRED to be FULFILLED *** \n",
    "    \n",
    "    ## Apply a fully-connected layer WITH bias, \n",
    "    ##   to receive and feature mapping the input, i.e. the noice vector\n",
    "    layers.Dense(7*7*128, input_shape=(NOISE_SIZE,), use_bias=True),   \n",
    "    ##-Q7: What are the code that you should put in place of the ??? in the above code line to fulfill its purpose of design (requirements in the comment)? \n",
    "    \n",
    "    ## Add a Reshape layer to change the output from previous 1D input layer into 3D \n",
    "    ##   which has 7X7 as size of generated 2D latent image \n",
    "    ##   with 128 features in the 3rd dimension\n",
    "    layers.Reshape([7, 7, 128]), \n",
    "    \n",
    "    ## Build a transposed convolution layer WITHOUT bias \n",
    "    ##      to do inversed convolution as a way to do learnable Upsampling;\n",
    "    ##   which has number of filters that equals to HALF of the \n",
    "    ##      feature dimension of the output from previous layer; \n",
    "    ##   5 X 5 as the kernel size;\n",
    "    ##   stride step as 2 for all of its spatial dimensions; and \n",
    "    ##   padding with zeros evenly to the surroundings of the input. \n",
    "    layers.Conv2DTranspose(3136, (5, 5), strides=(1, 1), padding='valid', use_bias=False),\n",
    "    ##-Q8: What are the code that you should put in place of the ??? in the above code line \n",
    "    ##     to fully fulfill its purpose of design (requirements in its above comments)? \n",
    "    \n",
    "    ##-Q9: After upsampling by transposed convolution layer with the required parameter configurations,\n",
    "    ##      What is the dimension of the 2D latent image that was 7X7 output from previous layer? \n",
    "    # 7X7X64\n",
    "       \n",
    "    \n",
    "    ## Add a Batch Normalization layer which would stabilize the learning procedure\n",
    "    ##   by standardizing activations from the prior layer to \n",
    "    ##   have normal distribution with the mean value of 0 and unit variance  \n",
    "    layers.BatchNormalization(),  \n",
    "    \n",
    "    ## Add a layer of Leaky ReLU activation function with alpha being 0.2, \n",
    "    ##   which still allow some negative value to pass through the network for continue learning\n",
    "    ##   even if it is negative, by multiply which with alpha     \n",
    "    layers.LeakyReLU(alpha=0.2), \n",
    "    \n",
    "    \n",
    "    \n",
    "    ## Build a transposed convolution layer WITHOUT bias;\n",
    "    ##   which has number of filters that equals to HALF of the \n",
    "    ##      feature dimension of the output from previous layer; \n",
    "    ##   3 X 3 as the kernel size; \n",
    "    ##   stride step as 2 for all of its spatial dimensions; and \n",
    "    ##   padding with zeros  evenlyto the surroundings of the input. \n",
    "    ## ???.???(???, (???, ???), strides=(???, ???), padding='???', use_bias=???),\n",
    "    layers.Conv2DTranspose(1568, (5, 5), strides=(2, 2), padding='valid', use_bias=False),\n",
    "    ##-Q10: What is the code line that you should put in place of the ??? line in the above  \n",
    "    ##     to fully fulfill its purpose of design (requirements in its above comments)? \n",
    "    ##   - use exactly only one space when needed, use only exactly one space after comma when comma is needed\n",
    "       \n",
    "    ##- Think about : After upsampling by this transposed convolution layer with the required parameter configurations,\n",
    "    ##      What is the dimension of the 2D latent image that was output from its previous layer? \n",
    "    # 7X7X32\n",
    "    \n",
    "    ## Add a Batch Normalization layer  \n",
    "    layers.BatchNormalization(),  \n",
    "    \n",
    "    ## Add a layer of Leaky ReLU activation function with alpha being 0.2, \n",
    "    layers.LeakyReLU(alpha=0.2), \n",
    "       \n",
    "    ## Build a transposed convolution layer WITHOUT bias;\n",
    "    ##   which has a number of filters \n",
    "    ##      that would make the output, i.e. the generated image, \n",
    "    ##      to have only 1 feature dimension, i.e. 1 color channel\n",
    "    ##   3 X 3 as the kernel size; \n",
    "    ##   SET stride step as a PROPER number \n",
    "    ##      that would make the output, i.e. the generated image, \n",
    "    ##      to have its first 2 dimensions (i.e. height and width), same as the loaded mnist real image\n",
    "    ##      i.e. the generated image in same image size as the real image.        \n",
    "    ##   padding with zeros evenly to the surroundings of the input;\n",
    "    ##   and CHOOSE an activation function that could make \n",
    "    ##      the range of output fake image's pixel values the SAME as preprocessed real iamge \n",
    "    ##      i.e. a range in [-1, 1]  \n",
    "    layers.Conv2DTranspose(1, (4, 4), strides=(1, 1), padding='valid', use_bias=False, activation='tanh'),\n",
    "    ##-Q11: What are the code that you have put in place of the 1st,2nd,3rd and 6th ??? in the above code line \n",
    "    ##     to fully fulfill its purpose of design (requirements in its above comments)? \n",
    " \n",
    "    ## A following Reshape layer is to make sure the output fake image has same dimensions as the real images.\n",
    "    ##   - if error occurs (dimension not match) it may suggest you to check if the previous layer configuration (e.g. strides) is correct\n",
    "    layers.Reshape([28, 28, 1])\n",
    "])\n",
    "\n",
    "## suggestion: take a look at your model's architecture by printing it out \n",
    "##   and think it through about how the transposed convolution generate the final image through upsampling "
   ]
  },
  {
   "cell_type": "markdown",
   "id": "fe494594",
   "metadata": {},
   "source": [
    "  "
   ]
  },
  {
   "cell_type": "markdown",
   "id": "8ab31d56",
   "metadata": {},
   "source": [
    "  "
   ]
  },
  {
   "cell_type": "markdown",
   "id": "ab949d33",
   "metadata": {},
   "source": [
    "### Build the Discriminator Model\n",
    "\n",
    "\n",
    "This Discriminator Model in DCGAN is basically a normal **CNN*** (So you could **recall how you build your CNN model in previous assignment**) that can be trained for binary classification, to identify real or fake images. \n",
    "\n",
    "The Discriminator Model will receive images as inputs, and binary values 1 or 0 as the outputs, representing the classification of the input images to be real or fake. "
   ]
  },
  {
   "cell_type": "code",
   "execution_count": 92,
   "id": "cfff2c3a",
   "metadata": {},
   "outputs": [],
   "source": [
    "# Implementing a keras binary activation functiono\n",
    "from keras import backend as K\n",
    "\n",
    "def binary_activation(x):\n",
    "    # Threshold the input and return binary values\n",
    "    return K.cast(K.greater(x, 0.0), K.floatx())"
   ]
  },
  {
   "cell_type": "code",
   "execution_count": 93,
   "id": "97862e7d",
   "metadata": {},
   "outputs": [],
   "source": [
    "## set the input dimension for Discriminator Model\n",
    "##   to the image shape in the tensor format (image_height, image_width, color_channels)\n",
    "image_dim = (28, 28, 1)\n",
    "\n",
    "\n",
    "# Build a tf.keras.Sequential model by stacking layers\n",
    "\n",
    "discriminator = keras.Sequential([      \n",
    "    ## Build a Convolutional layer that \n",
    "    ##   `input_shape` equal to the image dimention,  \n",
    "    ##   has 64 filters, \n",
    "    ##   5 X 5 as the kernel size, \n",
    "    ##   stride step as 2,and \n",
    "    ##   padding with zeros evenly to the surroundings of the input.     \n",
    "    layers.Conv2D(28*28, (5, 5), strides=(2, 2), input_shape=image_dim, padding='valid'),\n",
    "    \n",
    "    ##-Q12: What is the code line that you should put in place of the ??? line in the above  \n",
    "    ##     to fully fulfill its purpose of design (requirements in its above comments)? \n",
    "    ##   - use exactly only one space when needed, use only exactly one space after comma when comma is needed\n",
    "       \n",
    "    \n",
    "    ## Add a layer of Leaky ReLU activation function with alpha being 0.2, \n",
    "    layers.LeakyReLU(alpha=0.2), \n",
    "    \n",
    "    ## Add a Droupout layer to reduce overfitting     \n",
    "    ##   and set the rate to be 0.3 of the input units for dropping out  \n",
    "    layers.Dropout(0.3),\n",
    "    \n",
    "    \n",
    "    ## Build a Convolutional layer that   \n",
    "    ##   has 128 filters, \n",
    "    ##   3 X 3 as the kernel size, \n",
    "    ##   stride step as 2,and \n",
    "    ##   padding with zeros evenly to the surroundings of the input.\n",
    "    layers.Conv2D(128, (3, 3), strides=(2, 2), padding='valid'),\n",
    "\n",
    "    ## Add a layer of Leaky ReLU activation function with alpha being 0.2, \n",
    "    layers.LeakyReLU(alpha=0.2), \n",
    "    \n",
    "    ## Add a Droupout layer to reduce overfitting     \n",
    "    ##   and set the rate to be 0.3 of the input units for dropping out  \n",
    "    layers.Dropout(0.3),\n",
    "    \n",
    "    \n",
    "    ## Build a Convolutional layer that   \n",
    "    ##   has 256 filters, \n",
    "    ##   3 X 3 as the kernel size, \n",
    "    ##   stride step as 2,and \n",
    "    ##   padding with zeros evenly to the surroundings of the input.\n",
    "    ## Add a layer of Leaky ReLU activation function with alpha being 0.2, \n",
    "    ## Add a Droupout layer to reduce overfitting     \n",
    "    ##   and set the rate to be 0.3 of the input units for dropping out  \n",
    "    layers.Conv2D(256, (3, 3), strides=(2, 2), padding='valid'),\n",
    "    layers.LeakyReLU(alpha=0.2), \n",
    "    layers.Dropout(0.3),\n",
    "    \n",
    "    \n",
    "    ## Biuld A Flatten layer to flatten the input  \n",
    "    layers.Flatten(),\n",
    "    ##-Q13: What is the code line that you should put in place of the ??? line in the above  \n",
    "    ##     to fully fulfill its purpose of design (requirements in its above comments)? \n",
    "    ##   - use exactly only one space when needed, use only exactly one space after comma when comma is needed\n",
    "       \n",
    "    \n",
    "    ## Apply a `full-connected` output layer \n",
    "    ##   with a unit number that can output a binary value;\n",
    "    ##   - choose a proper activation function \n",
    "    ##      for this goal of *binary output* (binary classification task)    \n",
    "    layers.Dense(units=10, activation=binary_activation)    \n",
    "    ##-Q14: What are the code that you should put in place of the ??? in the above code line \n",
    "    ##     to fully fulfill its purpose of design (requirements in its above comments)? \n",
    " \n",
    "])\n",
    "\n",
    "\n",
    "## suggestion: take a look at your model's architecture by printing it out \n",
    "##   and think it through as well as compare with your previous CNN model "
   ]
  },
  {
   "cell_type": "markdown",
   "id": "436309a4",
   "metadata": {},
   "source": [
    "##### Compile Discriminator Model first \n",
    "\n",
    "Before the model is ready for training, it needs a few more settings. These are to be added during the [model's compiling](https://www.tensorflow.org/api_docs/python/tf/keras/Model) step:\n",
    "\n",
    "- [Optimizer](https://www.tensorflow.org/api_docs/python/tf/keras/optimizers) : This is how the model is updated based on the data it sees and its loss function.\n",
    "- [Loss function](https://www.tensorflow.org/api_docs/python/tf/keras/losses) : This measures how accurate the model is during training. You want to minimize this function to \"steer\" the model in the right direction. "
   ]
  },
  {
   "cell_type": "markdown",
   "id": "1460646e",
   "metadata": {},
   "source": [
    "Choose your optimizer:"
   ]
  },
  {
   "cell_type": "code",
   "execution_count": 94,
   "id": "24ae3e73",
   "metadata": {},
   "outputs": [],
   "source": [
    "## Set your optimizer for compiling the models later\n",
    "## Select an optimizer that implements the Adam algorithm, \n",
    "##   and validate to decide a proper learning rate for your model \n",
    "my_optimizer = optimizers.Adam()\n",
    "\n",
    "##-Q15: What are the code line that you should put in place of the ??? in the above code line \n",
    "##     to fully fulfill its purpose of design (requirements in its above comments)? \n",
    " "
   ]
  },
  {
   "cell_type": "markdown",
   "id": "d621411c",
   "metadata": {},
   "source": [
    "Compile Discriminator Model:"
   ]
  },
  {
   "cell_type": "code",
   "execution_count": 95,
   "id": "f4376fcd",
   "metadata": {},
   "outputs": [],
   "source": [
    "## Compile the Discriminator model with your chosen optimizer, \n",
    "##   and use Binary cross-entropy as losses, \n",
    "discriminator.compile(optimizer=my_optimizer,\n",
    "        loss=keras.losses.BinaryCrossentropy\n",
    "       )                     \n",
    "\n",
    "##-Q16: What are the code that you should put in place of the ??? in the above code line \n",
    "##     to fully fulfill its purpose of design (requirements in its above comments)? "
   ]
  },
  {
   "cell_type": "markdown",
   "id": "5c7f295b",
   "metadata": {},
   "source": [
    "  "
   ]
  },
  {
   "cell_type": "markdown",
   "id": "52af461c",
   "metadata": {},
   "source": [
    "  "
   ]
  },
  {
   "cell_type": "markdown",
   "id": "1a6d8b2d",
   "metadata": {},
   "source": [
    " \n",
    "### Build the DCGAN Model\n",
    "\n",
    "\n",
    "Build the DCGAN by concatenating the Generator and Discriminator into one sequential.\n",
    "\n",
    "The DCGAN Model will receive noise vectors as inputs, and a binary values 1 or 0 as the outputs, representing the classification of the input images to be real or fake.\n",
    "\n",
    "The Generator model is only concerned with the discriminator’s performance on fake examples. Therefore, we will mark all of the layers in the Discriminator as not trainable when it is part of the GAN model so that they can not be updated and overtrained on fake examples. "
   ]
  },
  {
   "cell_type": "code",
   "execution_count": 96,
   "id": "207d65cd",
   "metadata": {
    "scrolled": true
   },
   "outputs": [],
   "source": [
    "## make discriminator not-trainable as of now\n",
    "discriminator.trainable = False\n",
    "\n",
    "## Combine both Generator and Discriminator Models\n",
    "dcgan = keras.Sequential([     \n",
    "    generator,   \n",
    "    discriminator      \n",
    "])\n",
    "\n",
    "\n",
    "##-Q17: What is the `total number` of params (i.e. weights) , \n",
    "##      including the Non-trainable params e.g. from the Discriminator part, \n",
    "##      in the whole DCGAN Model build above?\n",
    "##      be careful in the calculations, For example. with or without bias. "
   ]
  },
  {
   "cell_type": "markdown",
   "id": "3d4487da",
   "metadata": {},
   "source": [
    "##### Compile DCGAN  \n",
    "\n",
    "And then compile the whole DCGAN "
   ]
  },
  {
   "cell_type": "code",
   "execution_count": 97,
   "id": "17acb31f",
   "metadata": {},
   "outputs": [],
   "source": [
    "## Compile the DCGAN model as a whole with your chosen optimizer, \n",
    "##   and use Binary cross-entropy as losses, \n",
    "dcgan.compile(optimizer=optimizers.Adam(),\n",
    "              loss=keras.losses.BinaryCrossentropy)"
   ]
  },
  {
   "cell_type": "markdown",
   "id": "4352b2f8",
   "metadata": {},
   "source": [
    "  "
   ]
  },
  {
   "cell_type": "markdown",
   "id": "db42b50d",
   "metadata": {},
   "source": [
    "  "
   ]
  },
  {
   "cell_type": "markdown",
   "id": "6f6c1bc7",
   "metadata": {},
   "source": [
    "  "
   ]
  },
  {
   "cell_type": "markdown",
   "id": "03eaa705",
   "metadata": {},
   "source": [
    "## Train the model\n",
    "\n",
    "Train the DCGAN to improve the ability of generating good fake images by the Generator."
   ]
  },
  {
   "cell_type": "markdown",
   "id": "6813c8d4",
   "metadata": {},
   "source": [
    "Prepare 6 random noice vectors, to check and compare how the generated fake images on same 6 inputs are improved over the training procedure.\n"
   ]
  },
  {
   "cell_type": "code",
   "execution_count": 98,
   "id": "ae22c060",
   "metadata": {
    "scrolled": false
   },
   "outputs": [
    {
     "name": "stderr",
     "output_type": "stream",
     "text": [
      "2023-06-02 15:55:10.367611: I tensorflow/compiler/xla/stream_executor/cuda/cuda_blas.cc:637] TensorFloat-32 will be used for the matrix multiplication. This will only be logged once.\n",
      "2023-06-02 15:55:10.530528: I tensorflow/compiler/xla/stream_executor/cuda/cuda_dnn.cc:424] Loaded cuDNN version 8600\n"
     ]
    },
    {
     "name": "stdout",
     "output_type": "stream",
     "text": [
      "1/1 [==============================] - 3s 3s/step\n"
     ]
    },
    {
     "data": {
      "image/png": "[encoded data removed]",
      "text/plain": [
       "<Figure size 1200x600 with 6 Axes>"
      ]
     },
     "metadata": {},
     "output_type": "display_data"
    }
   ],
   "source": [
    "## create random noice inputs to checking the corresponding generated fake images \n",
    "\n",
    "## create random noise inputs of 6\n",
    "##    which will be later used for comparison of the generated images\n",
    "##    on these same sample noises during the training \n",
    "noise_inputs_check = get_noise_one_batch(6)  \n",
    "## generate the initial output images before training\n",
    "images_outputs_check = generator.predict(noise_inputs_check)\n",
    "\n",
    "## Show the 6 generated images: \n",
    "images_show(images_outputs_check, num_postfix=-1) "
   ]
  },
  {
   "cell_type": "markdown",
   "id": "cf3d10ac",
   "metadata": {},
   "source": [
    "  "
   ]
  },
  {
   "cell_type": "markdown",
   "id": "3668487a",
   "metadata": {},
   "source": [
    "##### Train Discriminator Model and DCGAN Model  \n",
    "\n",
    "In each training loop, the Discriminator Model is first trained to better classify real images (drawn from the real image dataset ) and fakes images (produced by the Generator Model based on random noice as input). \n",
    "\n",
    "The Discriminator in DCGAN was first marked as not trainable to train only weights of layers in the Generator of DCGAN Model to help better generate fake images like real. "
   ]
  },
  {
   "cell_type": "code",
   "execution_count": 99,
   "id": "39f9023a",
   "metadata": {},
   "outputs": [],
   "source": [
    "## Define training parameters  \n",
    "\n",
    "## set epochs size/count \n",
    "##  it is assigned a initial value 1 TEMPORARILY, you need to replace it to your tunned value eventually.\n",
    "EPOCHS = 1   ### 1 is a temporary value that you need to update before submitting \n",
    "\n",
    "\n",
    "## Calculated the Number of batches based on the loaded data `images_train`  and the size of a batch\n",
    "BATCHS = np.floor(BUFFER_SIZE/BATCH_SIZE).astype('int')\n",
    "\n",
    "## Set the interval as 300 \n",
    "##   to show generated images by the Generator trained so far in the training procedure\n",
    "##   on the same 6 noise vector inputs.\n",
    "##   i.e. Display every 300 iterations the 6 generated fake images as training keeps improving it\n",
    "iter_interval = 300\n",
    "\n",
    "## Define binary labels that represent real and fake outputs for each batch training\n",
    "labels_real = np.ones((BATCH_SIZE, 1))\n",
    "labels_fake = np.zeros((BATCH_SIZE, 1))"
   ]
  },
  {
   "cell_type": "markdown",
   "id": "fb82a225",
   "metadata": {},
   "source": [
    "\n",
    "###  <font color='red'>NOTICE:</font>\n",
    " \n",
    "<font color='red'>Depending on your EPOCHS count, your computer computation capability, etc. the training procedure could take HOURS </font>\n",
    "\n",
    "You could temporarily replace the variable name `EPOCHS` in the below code cell to be a small value for testing.  After tunning all other parameters above this cell, you can then replace that small value back to the original variable name `EPOCHS`, so your setting on the `EPOCHS` in the above code cell could take effect.\n",
    "\n",
    "For example, if you replace　　`for epoch in range(0, EPOCHS):`　　to be　 　`for epoch in range(0, 1):`　　\n",
    "     \n",
    "and execute the below code cell, the DCGAN will only be trained for 1 epoch for all the batches, and stop there.\n",
    "\n",
    "<br>\n",
    "\n",
    "After that you can keep manually changing it to be 　　`for epoch in range(1, 2):`\n",
    "     \n",
    "and execute the below code cell again (without needing to restart the whole notebook), the DCGAN will keep beeing trained for the 2nd epoch, and the training will continue based on the parameters already learned from the 1st epoch.\n",
    "\n",
    "As long as your computer, Jupyter notebook local server, and this .ipynb, are not colsed, you should be able to keep on the training procesure, instead of training all over again. \n",
    "\n",
    "For example if you want to run the 3rd epoch, then keep manually change it to be 　　 `for epoch in range(2, 3):` \n",
    "\n",
    "then the model will continued to be trained upon the parameters learned from the 2nd epoch\n",
    "\n",
    "<br>\n",
    "     \n",
    "This way of manually start the next epoch round could let you have more controls on the tunning or debugging, and have a better idea how many epochs your model would eventually need. 　Note re-run the below cell will overwrite the output so you won't be able to see the image plots generated from previous epoch, but you can always go into your image subfolder to inspect.\n",
    "\n",
    "After you tunned to decide a satisfied epoch count (as well as other parameters), then you can assign that value to the variable `EPOCHS` in the above code cell, and change the bellow cell back to `for epoch in range(0, EPOCHS):`, and save the .ipynb before colse and halt it, then reopen the .ipynb to have a full run-from-beginning, to complete this assignment for the submission.\n",
    " "
   ]
  },
  {
   "cell_type": "code",
   "execution_count": 100,
   "id": "e4e7af1f",
   "metadata": {
    "scrolled": true
   },
   "outputs": [
    {
     "name": "stdout",
     "output_type": "stream",
     "text": [
      "~~~ DCGAN training starting at 2023-06-02 15:55:12.778473 \n",
      "\n",
      " \n"
     ]
    },
    {
     "name": "stderr",
     "output_type": "stream",
     "text": [
      "2023-06-02 15:55:12.871608: I tensorflow/core/common_runtime/executor.cc:1197] [/device:CPU:0] (DEBUG INFO) Executor start aborting (this does not indicate an error and you can ignore this message): INVALID_ARGUMENT: You must feed a value for placeholder tensor 'Placeholder/_0' with dtype float and shape [60000,28,28,1]\n",
      "\t [[{{node Placeholder/_0}}]]\n",
      "2023-06-02 15:55:12.871788: I tensorflow/core/common_runtime/executor.cc:1197] [/device:CPU:0] (DEBUG INFO) Executor start aborting (this does not indicate an error and you can ignore this message): INVALID_ARGUMENT: You must feed a value for placeholder tensor 'Placeholder/_0' with dtype float and shape [60000,28,28,1]\n",
      "\t [[{{node Placeholder/_0}}]]\n",
      "2023-06-02 15:55:12.910346: I tensorflow/core/common_runtime/executor.cc:1197] [/device:CPU:0] (DEBUG INFO) Executor start aborting (this does not indicate an error and you can ignore this message): INVALID_ARGUMENT: You must feed a value for placeholder tensor 'Placeholder/_1' with dtype float and shape [64,1]\n",
      "\t [[{{node Placeholder/_1}}]]\n"
     ]
    },
    {
     "ename": "TypeError",
     "evalue": "in user code:\n\n    File \"/home/ceg98/miniconda3/envs/ML/lib/python3.9/site-packages/keras/engine/training.py\", line 1284, in train_function  *\n        return step_function(self, iterator)\n    File \"/home/ceg98/miniconda3/envs/ML/lib/python3.9/site-packages/keras/engine/training.py\", line 1268, in step_function  **\n        outputs = model.distribute_strategy.run(run_step, args=(data,))\n    File \"/home/ceg98/miniconda3/envs/ML/lib/python3.9/site-packages/keras/engine/training.py\", line 1249, in run_step  **\n        outputs = model.train_step(data)\n    File \"/home/ceg98/miniconda3/envs/ML/lib/python3.9/site-packages/keras/engine/training.py\", line 1051, in train_step\n        loss = self.compute_loss(x, y, y_pred, sample_weight)\n    File \"/home/ceg98/miniconda3/envs/ML/lib/python3.9/site-packages/keras/engine/training.py\", line 1109, in compute_loss\n        return self.compiled_loss(\n    File \"/home/ceg98/miniconda3/envs/ML/lib/python3.9/site-packages/keras/engine/compile_utils.py\", line 265, in __call__\n        loss_value = loss_obj(y_t, y_p, sample_weight=sw)\n    File \"/home/ceg98/miniconda3/envs/ML/lib/python3.9/site-packages/keras/losses.py\", line 160, in __call__\n        return losses_utils.compute_weighted_loss(\n    File \"/home/ceg98/miniconda3/envs/ML/lib/python3.9/site-packages/keras/utils/losses_utils.py\", line 328, in compute_weighted_loss\n        losses = tf.convert_to_tensor(losses)\n\n    TypeError: Failed to convert elements of <keras.losses.BinaryCrossentropy object at 0x7fa99cc02820> to Tensor. Consider casting elements to a supported type. See https://www.tensorflow.org/api_docs/python/tf/dtypes for supported TF dtypes.\n",
     "output_type": "error",
     "traceback": [
      "\u001b[0;31m---------------------------------------------------------------------------\u001b[0m",
      "\u001b[0;31mTypeError\u001b[0m                                 Traceback (most recent call last)",
      "Cell \u001b[0;32mIn[100], line 20\u001b[0m\n\u001b[1;32m     17\u001b[0m discriminator\u001b[39m.\u001b[39mtrainable \u001b[39m=\u001b[39m \u001b[39mTrue\u001b[39;00m\n\u001b[1;32m     19\u001b[0m \u001b[39m## Batch Train Discriminator Model on a batch of real images with them labeled as real \u001b[39;00m\n\u001b[0;32m---> 20\u001b[0m d_loss_real \u001b[39m=\u001b[39m discriminator\u001b[39m.\u001b[39;49mtrain_on_batch(images_real, labels_real)\n\u001b[1;32m     22\u001b[0m \u001b[39m## create a random noise batch inputs and pass which into the Generator to generate fake images\u001b[39;00m\n\u001b[1;32m     23\u001b[0m noise_inputs \u001b[39m=\u001b[39m get_noise_one_batch()\n",
      "File \u001b[0;32m~/miniconda3/envs/ML/lib/python3.9/site-packages/keras/engine/training.py:2510\u001b[0m, in \u001b[0;36mModel.train_on_batch\u001b[0;34m(self, x, y, sample_weight, class_weight, reset_metrics, return_dict)\u001b[0m\n\u001b[1;32m   2506\u001b[0m     iterator \u001b[39m=\u001b[39m data_adapter\u001b[39m.\u001b[39msingle_batch_iterator(\n\u001b[1;32m   2507\u001b[0m         \u001b[39mself\u001b[39m\u001b[39m.\u001b[39mdistribute_strategy, x, y, sample_weight, class_weight\n\u001b[1;32m   2508\u001b[0m     )\n\u001b[1;32m   2509\u001b[0m     \u001b[39mself\u001b[39m\u001b[39m.\u001b[39mtrain_function \u001b[39m=\u001b[39m \u001b[39mself\u001b[39m\u001b[39m.\u001b[39mmake_train_function()\n\u001b[0;32m-> 2510\u001b[0m     logs \u001b[39m=\u001b[39m \u001b[39mself\u001b[39;49m\u001b[39m.\u001b[39;49mtrain_function(iterator)\n\u001b[1;32m   2512\u001b[0m logs \u001b[39m=\u001b[39m tf_utils\u001b[39m.\u001b[39msync_to_numpy_or_python_type(logs)\n\u001b[1;32m   2513\u001b[0m \u001b[39mif\u001b[39;00m return_dict:\n",
      "File \u001b[0;32m~/miniconda3/envs/ML/lib/python3.9/site-packages/tensorflow/python/util/traceback_utils.py:153\u001b[0m, in \u001b[0;36mfilter_traceback.<locals>.error_handler\u001b[0;34m(*args, **kwargs)\u001b[0m\n\u001b[1;32m    151\u001b[0m \u001b[39mexcept\u001b[39;00m \u001b[39mException\u001b[39;00m \u001b[39mas\u001b[39;00m e:\n\u001b[1;32m    152\u001b[0m   filtered_tb \u001b[39m=\u001b[39m _process_traceback_frames(e\u001b[39m.\u001b[39m__traceback__)\n\u001b[0;32m--> 153\u001b[0m   \u001b[39mraise\u001b[39;00m e\u001b[39m.\u001b[39mwith_traceback(filtered_tb) \u001b[39mfrom\u001b[39;00m \u001b[39mNone\u001b[39;00m\n\u001b[1;32m    154\u001b[0m \u001b[39mfinally\u001b[39;00m:\n\u001b[1;32m    155\u001b[0m   \u001b[39mdel\u001b[39;00m filtered_tb\n",
      "File \u001b[0;32m/tmp/__autograph_generated_fileinxfc1zx.py:15\u001b[0m, in \u001b[0;36mouter_factory.<locals>.inner_factory.<locals>.tf__train_function\u001b[0;34m(iterator)\u001b[0m\n\u001b[1;32m     13\u001b[0m \u001b[39mtry\u001b[39;00m:\n\u001b[1;32m     14\u001b[0m     do_return \u001b[39m=\u001b[39m \u001b[39mTrue\u001b[39;00m\n\u001b[0;32m---> 15\u001b[0m     retval_ \u001b[39m=\u001b[39m ag__\u001b[39m.\u001b[39mconverted_call(ag__\u001b[39m.\u001b[39mld(step_function), (ag__\u001b[39m.\u001b[39mld(\u001b[39mself\u001b[39m), ag__\u001b[39m.\u001b[39mld(iterator)), \u001b[39mNone\u001b[39;00m, fscope)\n\u001b[1;32m     16\u001b[0m \u001b[39mexcept\u001b[39;00m:\n\u001b[1;32m     17\u001b[0m     do_return \u001b[39m=\u001b[39m \u001b[39mFalse\u001b[39;00m\n",
      "File \u001b[0;32m~/miniconda3/envs/ML/lib/python3.9/site-packages/keras/engine/training.py:1268\u001b[0m, in \u001b[0;36mModel.make_train_function.<locals>.step_function\u001b[0;34m(model, iterator)\u001b[0m\n\u001b[1;32m   1264\u001b[0m     run_step \u001b[39m=\u001b[39m tf\u001b[39m.\u001b[39mfunction(\n\u001b[1;32m   1265\u001b[0m         run_step, jit_compile\u001b[39m=\u001b[39m\u001b[39mTrue\u001b[39;00m, reduce_retracing\u001b[39m=\u001b[39m\u001b[39mTrue\u001b[39;00m\n\u001b[1;32m   1266\u001b[0m     )\n\u001b[1;32m   1267\u001b[0m data \u001b[39m=\u001b[39m \u001b[39mnext\u001b[39m(iterator)\n\u001b[0;32m-> 1268\u001b[0m outputs \u001b[39m=\u001b[39m model\u001b[39m.\u001b[39;49mdistribute_strategy\u001b[39m.\u001b[39;49mrun(run_step, args\u001b[39m=\u001b[39;49m(data,))\n\u001b[1;32m   1269\u001b[0m outputs \u001b[39m=\u001b[39m reduce_per_replica(\n\u001b[1;32m   1270\u001b[0m     outputs,\n\u001b[1;32m   1271\u001b[0m     \u001b[39mself\u001b[39m\u001b[39m.\u001b[39mdistribute_strategy,\n\u001b[1;32m   1272\u001b[0m     reduction\u001b[39m=\u001b[39m\u001b[39mself\u001b[39m\u001b[39m.\u001b[39mdistribute_reduction_method,\n\u001b[1;32m   1273\u001b[0m )\n\u001b[1;32m   1274\u001b[0m \u001b[39mreturn\u001b[39;00m outputs\n",
      "File \u001b[0;32m~/miniconda3/envs/ML/lib/python3.9/site-packages/keras/engine/training.py:1249\u001b[0m, in \u001b[0;36mModel.make_train_function.<locals>.step_function.<locals>.run_step\u001b[0;34m(data)\u001b[0m\n\u001b[1;32m   1248\u001b[0m \u001b[39mdef\u001b[39;00m \u001b[39mrun_step\u001b[39m(data):\n\u001b[0;32m-> 1249\u001b[0m     outputs \u001b[39m=\u001b[39m model\u001b[39m.\u001b[39;49mtrain_step(data)\n\u001b[1;32m   1250\u001b[0m     \u001b[39m# Ensure counter is updated only if `train_step` succeeds.\u001b[39;00m\n\u001b[1;32m   1251\u001b[0m     \u001b[39mwith\u001b[39;00m tf\u001b[39m.\u001b[39mcontrol_dependencies(_minimum_control_deps(outputs)):\n",
      "File \u001b[0;32m~/miniconda3/envs/ML/lib/python3.9/site-packages/keras/engine/training.py:1051\u001b[0m, in \u001b[0;36mModel.train_step\u001b[0;34m(self, data)\u001b[0m\n\u001b[1;32m   1049\u001b[0m \u001b[39mwith\u001b[39;00m tf\u001b[39m.\u001b[39mGradientTape() \u001b[39mas\u001b[39;00m tape:\n\u001b[1;32m   1050\u001b[0m     y_pred \u001b[39m=\u001b[39m \u001b[39mself\u001b[39m(x, training\u001b[39m=\u001b[39m\u001b[39mTrue\u001b[39;00m)\n\u001b[0;32m-> 1051\u001b[0m     loss \u001b[39m=\u001b[39m \u001b[39mself\u001b[39m\u001b[39m.\u001b[39mcompute_loss(x, y, y_pred, sample_weight)\n\u001b[1;32m   1052\u001b[0m \u001b[39mself\u001b[39m\u001b[39m.\u001b[39m_validate_target_and_loss(y, loss)\n\u001b[1;32m   1053\u001b[0m \u001b[39m# Run backwards pass.\u001b[39;00m\n",
      "File \u001b[0;32m~/miniconda3/envs/ML/lib/python3.9/site-packages/keras/engine/training.py:1109\u001b[0m, in \u001b[0;36mModel.compute_loss\u001b[0;34m(***failed resolving arguments***)\u001b[0m\n\u001b[1;32m   1058\u001b[0m \u001b[39m\u001b[39m\u001b[39m\"\"\"Compute the total loss, validate it, and return it.\u001b[39;00m\n\u001b[1;32m   1059\u001b[0m \n\u001b[1;32m   1060\u001b[0m \u001b[39mSubclasses can optionally override this method to provide custom loss\u001b[39;00m\n\u001b[0;32m   (...)\u001b[0m\n\u001b[1;32m   1106\u001b[0m \u001b[39m  is the case when called by `Model.test_step`).\u001b[39;00m\n\u001b[1;32m   1107\u001b[0m \u001b[39m\"\"\"\u001b[39;00m\n\u001b[1;32m   1108\u001b[0m \u001b[39mdel\u001b[39;00m x  \u001b[39m# The default implementation does not use `x`.\u001b[39;00m\n\u001b[0;32m-> 1109\u001b[0m \u001b[39mreturn\u001b[39;00m \u001b[39mself\u001b[39;49m\u001b[39m.\u001b[39;49mcompiled_loss(\n\u001b[1;32m   1110\u001b[0m     y, y_pred, sample_weight, regularization_losses\u001b[39m=\u001b[39;49m\u001b[39mself\u001b[39;49m\u001b[39m.\u001b[39;49mlosses\n\u001b[1;32m   1111\u001b[0m )\n",
      "File \u001b[0;32m~/miniconda3/envs/ML/lib/python3.9/site-packages/keras/engine/compile_utils.py:265\u001b[0m, in \u001b[0;36mLossesContainer.__call__\u001b[0;34m(self, y_true, y_pred, sample_weight, regularization_losses)\u001b[0m\n\u001b[1;32m    263\u001b[0m y_t, y_p, sw \u001b[39m=\u001b[39m match_dtype_and_rank(y_t, y_p, sw)\n\u001b[1;32m    264\u001b[0m sw \u001b[39m=\u001b[39m losses_utils\u001b[39m.\u001b[39mapply_mask(y_p, sw, losses_utils\u001b[39m.\u001b[39mget_mask(y_p))\n\u001b[0;32m--> 265\u001b[0m loss_value \u001b[39m=\u001b[39m loss_obj(y_t, y_p, sample_weight\u001b[39m=\u001b[39;49msw)\n\u001b[1;32m    267\u001b[0m total_loss_mean_value \u001b[39m=\u001b[39m loss_value\n\u001b[1;32m    268\u001b[0m \u001b[39m# Correct for the `Mean` loss metrics counting each replica as a\u001b[39;00m\n\u001b[1;32m    269\u001b[0m \u001b[39m# batch.\u001b[39;00m\n",
      "File \u001b[0;32m~/miniconda3/envs/ML/lib/python3.9/site-packages/keras/losses.py:160\u001b[0m, in \u001b[0;36mLoss.__call__\u001b[0;34m(self, y_true, y_pred, sample_weight)\u001b[0m\n\u001b[1;32m    156\u001b[0m reduction \u001b[39m=\u001b[39m \u001b[39mself\u001b[39m\u001b[39m.\u001b[39m_get_reduction()\n\u001b[1;32m    157\u001b[0m sample_weight \u001b[39m=\u001b[39m losses_utils\u001b[39m.\u001b[39mapply_valid_mask(\n\u001b[1;32m    158\u001b[0m     losses, sample_weight, mask, reduction\n\u001b[1;32m    159\u001b[0m )\n\u001b[0;32m--> 160\u001b[0m \u001b[39mreturn\u001b[39;00m losses_utils\u001b[39m.\u001b[39mcompute_weighted_loss(\n\u001b[1;32m    161\u001b[0m     losses, sample_weight, reduction\u001b[39m=\u001b[39mreduction\n\u001b[1;32m    162\u001b[0m )\n",
      "File \u001b[0;32m~/miniconda3/envs/ML/lib/python3.9/site-packages/keras/utils/losses_utils.py:328\u001b[0m, in \u001b[0;36mcompute_weighted_loss\u001b[0;34m(losses, sample_weight, reduction, name)\u001b[0m\n\u001b[1;32m    325\u001b[0m tf\u001b[39m.\u001b[39mcompat\u001b[39m.\u001b[39mv1\u001b[39m.\u001b[39mget_default_graph()\u001b[39m.\u001b[39m_last_loss_reduction \u001b[39m=\u001b[39m reduction\n\u001b[1;32m    327\u001b[0m \u001b[39mif\u001b[39;00m \u001b[39mnot\u001b[39;00m \u001b[39misinstance\u001b[39m(losses, (keras_tensor\u001b[39m.\u001b[39mKerasTensor, tf\u001b[39m.\u001b[39mRaggedTensor)):\n\u001b[0;32m--> 328\u001b[0m     losses \u001b[39m=\u001b[39m tf\u001b[39m.\u001b[39mconvert_to_tensor(losses)\n\u001b[1;32m    330\u001b[0m \u001b[39mif\u001b[39;00m \u001b[39mnot\u001b[39;00m \u001b[39misinstance\u001b[39m(\n\u001b[1;32m    331\u001b[0m     sample_weight, (keras_tensor\u001b[39m.\u001b[39mKerasTensor, tf\u001b[39m.\u001b[39mRaggedTensor)\n\u001b[1;32m    332\u001b[0m ):\n\u001b[1;32m    333\u001b[0m     sample_weight \u001b[39m=\u001b[39m tf\u001b[39m.\u001b[39mconvert_to_tensor(sample_weight)\n",
      "\u001b[0;31mTypeError\u001b[0m: in user code:\n\n    File \"/home/ceg98/miniconda3/envs/ML/lib/python3.9/site-packages/keras/engine/training.py\", line 1284, in train_function  *\n        return step_function(self, iterator)\n    File \"/home/ceg98/miniconda3/envs/ML/lib/python3.9/site-packages/keras/engine/training.py\", line 1268, in step_function  **\n        outputs = model.distribute_strategy.run(run_step, args=(data,))\n    File \"/home/ceg98/miniconda3/envs/ML/lib/python3.9/site-packages/keras/engine/training.py\", line 1249, in run_step  **\n        outputs = model.train_step(data)\n    File \"/home/ceg98/miniconda3/envs/ML/lib/python3.9/site-packages/keras/engine/training.py\", line 1051, in train_step\n        loss = self.compute_loss(x, y, y_pred, sample_weight)\n    File \"/home/ceg98/miniconda3/envs/ML/lib/python3.9/site-packages/keras/engine/training.py\", line 1109, in compute_loss\n        return self.compiled_loss(\n    File \"/home/ceg98/miniconda3/envs/ML/lib/python3.9/site-packages/keras/engine/compile_utils.py\", line 265, in __call__\n        loss_value = loss_obj(y_t, y_p, sample_weight=sw)\n    File \"/home/ceg98/miniconda3/envs/ML/lib/python3.9/site-packages/keras/losses.py\", line 160, in __call__\n        return losses_utils.compute_weighted_loss(\n    File \"/home/ceg98/miniconda3/envs/ML/lib/python3.9/site-packages/keras/utils/losses_utils.py\", line 328, in compute_weighted_loss\n        losses = tf.convert_to_tensor(losses)\n\n    TypeError: Failed to convert elements of <keras.losses.BinaryCrossentropy object at 0x7fa99cc02820> to Tensor. Consider casting elements to a supported type. See https://www.tensorflow.org/api_docs/python/tf/dtypes for supported TF dtypes.\n"
     ]
    }
   ],
   "source": [
    "## Start Model Training in the iterations\n",
    "\n",
    "## Record the Starting time of runing DCGAN training\n",
    "datetime_now = datetime.now()\n",
    "print(f\"~~~ DCGAN training starting at {datetime_now} \\n\\n \")  \n",
    "\n",
    "for epoch in range(0, EPOCHS): \n",
    "    ## generate new dataset of real images for each epoch\n",
    "    real_dataset = get_dataset_real(images_data)\n",
    "    \n",
    "    for batch, images_real in enumerate(real_dataset):\n",
    "        \n",
    "        ## Train Discriminator seperately:\n",
    "        \n",
    "        ## Make Discriminator Trainable for now\n",
    "        ##   i.e.set the Discriminator Model trainable to be trained on real and fake images\n",
    "        discriminator.trainable = True\n",
    "        \n",
    "        ## Batch Train Discriminator Model on a batch of real images with them labeled as real \n",
    "        d_loss_real = discriminator.train_on_batch(images_real, labels_real)\n",
    "        \n",
    "        ## create a random noise batch inputs and pass which into the Generator to generate fake images\n",
    "        noise_inputs = get_noise_one_batch()\n",
    "        images_fake = generator.predict(noise_inputs)\n",
    "                          \n",
    "        ## Train Discriminator Model on a batch of fake images with them labeled as fake \n",
    "        d_loss_fake = discriminator.train_on_batch(images_fake, labels_fake)\n",
    "                          \n",
    "            \n",
    "        ## Train DCGAN model     \n",
    "        \n",
    "        ## Make Discriminator Not-trainable for now\n",
    "        ##   i.e. set the Discriminator Model NOT trainable \n",
    "        ##        to only update layer weights of Generator            \n",
    "        discriminator.trainable = False\n",
    "        ##-Q18: What is the code line that you should put in place of the ??? in the above line \n",
    "        ##     to fully fulfill its purpose of design (requirements in its above comments)? \n",
    "        \n",
    "        ## create a random noise batch inputs and pass which into the DCGAN later\n",
    "        noise_inputs = get_noise_one_batch()\n",
    "        \n",
    "        ## Batch Train DCGAN Model on a batch of noise inputs with them labeled as real \n",
    "        ##   to fool the Discriminator with the fake images generated by Generator but labeled as real\n",
    "        dcg_loss = dcgan.train_on_batch(noise_inputs, labels_real) \n",
    "        ##-Q19: What is the code line that you should put in place of the ??? in the above line \n",
    "        ##     to fully fulfill its purpose of design (requirements in its above comments)? \n",
    "    \n",
    "        ## Print training progress with model losses  on the intervals  \n",
    "        ##   and Show fake images generated on same 6 noise inputs \n",
    "        ##            which are also saved in the folder for comparison later\n",
    "        iteration = (epoch * BATCHS) + (batch + 1)  \n",
    "\n",
    "        if iteration % 5 == 0:\n",
    "            print(f\"=== Iter: {iteration} : d_loss_real: {d_loss_real:.9f}, d_loss_fake: {d_loss_fake:.9f}, dcg_loss: {dcg_loss:.9f} - in Epoch {epoch + 1}/{EPOCHS} - Batch {batch+1}/{BATCHS}\")\n",
    "\n",
    "        if iteration % iter_interval == 0: \n",
    "            images_check = generator.predict(noise_inputs_check)\n",
    "            images_show(images_check, num_postfix=iteration)\n",
    "            print(\"*** time now: \", datetime.now()) \n",
    "            \n",
    "## Record the Ending time of runing DCGAN training\n",
    "datetime_now = datetime.now()\n",
    "print(f\"\\n\\n ~~~ DCGAN trainging ends at {datetime_now}\")  "
   ]
  }
 ],
 "metadata": {
  "kernelspec": {
   "display_name": "Python 3 (ipykernel)",
   "language": "python",
   "name": "python3"
  },
  "language_info": {
   "codemirror_mode": {
    "name": "ipython",
    "version": 3
   },
   "file_extension": ".py",
   "mimetype": "text/x-python",
   "name": "python",
   "nbconvert_exporter": "python",
   "pygments_lexer": "ipython3",
   "version": "3.9.16"
  }
 },
 "nbformat": 4,
 "nbformat_minor": 5
}
